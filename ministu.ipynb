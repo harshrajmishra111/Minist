{
 "cells": [
  {
   "cell_type": "code",
   "execution_count": 1,
   "metadata": {},
   "outputs": [],
   "source": [
    "import idx2numpy\n",
    "import numpy as np\n",
    "from sklearn.model_selection import train_test_split"
   ]
  },
  {
   "cell_type": "code",
   "execution_count": 2,
   "metadata": {},
   "outputs": [
    {
     "name": "stdout",
     "output_type": "stream",
     "text": [
      "Train images shape: (60000, 28, 28)\n",
      "Train labels shape: (60000,)\n",
      "Test images shape: (10000, 28, 28)\n",
      "Test labels shape: (10000,)\n",
      "Data type: uint8\n",
      "Pixel value range: 0 255\n"
     ]
    }
   ],
   "source": [
    "# File paths\n",
    "train_images_path = 'MNIST original/train-images.idx3-ubyte'\n",
    "train_labels_path = 'MNIST original/train-labels.idx1-ubyte'\n",
    "test_images_path = 'MNIST original/t10k-images.idx3-ubyte'\n",
    "test_labels_path = 'MNIST original/t10k-labels.idx1-ubyte'\n",
    "\n",
    "# Load the datasets\n",
    "train_images = idx2numpy.convert_from_file(train_images_path)\n",
    "train_labels = idx2numpy.convert_from_file(train_labels_path)\n",
    "test_images = idx2numpy.convert_from_file(test_images_path)\n",
    "test_labels = idx2numpy.convert_from_file(test_labels_path)\n",
    "\n",
    "# Inspect data shapes, types and ranges\n",
    "print(\"Train images shape:\", train_images.shape)\n",
    "print(\"Train labels shape:\", train_labels.shape)\n",
    "print(\"Test images shape:\", test_images.shape)\n",
    "print(\"Test labels shape:\", test_labels.shape)\n",
    "print(\"Data type:\", train_images.dtype)\n",
    "print(\"Pixel value range:\", train_images.min(), train_images.max())"
   ]
  },
  {
   "cell_type": "code",
   "execution_count": 3,
   "metadata": {},
   "outputs": [],
   "source": [
    "# Normalize the images by scaling pixel values to range [0, 1]\n",
    "train_images = train_images.astype('float32') / 255\n",
    "test_images = test_images.astype('float32') / 255\n"
   ]
  },
  {
   "cell_type": "code",
   "execution_count": 4,
   "metadata": {},
   "outputs": [],
   "source": [
    "# Reshape the data if necessary (flattening the 28x28 images to 784-length vectors)\n",
    "train_images = train_images.reshape(-1, 784)\n",
    "test_images = test_images.reshape(-1, 784)"
   ]
  },
  {
   "cell_type": "code",
   "execution_count": 5,
   "metadata": {},
   "outputs": [],
   "source": [
    "# Split the dataset into training and testing sets (already split, but combining for example)\n",
    "X = np.concatenate((train_images, test_images))\n",
    "y = np.concatenate((train_labels, test_labels))\n",
    "\n",
    "# Splitting the data (80% training, 20% testing)\n",
    "X_train, X_test, y_train, y_test = train_test_split(X, y, test_size=0.20, random_state=42)"
   ]
  },
  {
   "cell_type": "code",
   "execution_count": 6,
   "metadata": {},
   "outputs": [
    {
     "name": "stdout",
     "output_type": "stream",
     "text": [
      "After split, train images shape: (56000, 784)\n",
      "After split, test images shape: (14000, 784)\n"
     ]
    }
   ],
   "source": [
    "print(\"After split, train images shape:\", X_train.shape)\n",
    "print(\"After split, test images shape:\", X_test.shape)\n"
   ]
  }
 ],
 "metadata": {
  "kernelspec": {
   "display_name": "Python 3",
   "language": "python",
   "name": "python3"
  },
  "language_info": {
   "codemirror_mode": {
    "name": "ipython",
    "version": 3
   },
   "file_extension": ".py",
   "mimetype": "text/x-python",
   "name": "python",
   "nbconvert_exporter": "python",
   "pygments_lexer": "ipython3",
   "version": "3.12.0"
  }
 },
 "nbformat": 4,
 "nbformat_minor": 2
}
